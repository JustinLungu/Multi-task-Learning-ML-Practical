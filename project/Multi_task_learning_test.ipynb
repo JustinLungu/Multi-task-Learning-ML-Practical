{
 "nbformat": 4,
 "nbformat_minor": 0,
 "metadata": {
  "colab": {
   "provenance": []
  },
  "kernelspec": {
   "name": "python3",
   "language": "python",
   "display_name": "Python 3 (ipykernel)"
  },
  "language_info": {
   "name": "python"
  }
 },
 "cells": [
  {
   "cell_type": "markdown",
   "source": [
    "# Get the data and make it suitable for input"
   ],
   "metadata": {
    "id": "LPV7pf95CbhJ"
   }
  },
  {
   "cell_type": "markdown",
   "source": [
    "# Build the multi-task learning"
   ],
   "metadata": {
    "id": "FPV7BTIUCfyA"
   }
  },
  {
   "cell_type": "code",
   "execution_count": 4,
   "metadata": {
    "colab": {
     "base_uri": "https://localhost:8080/"
    },
    "id": "0284ZSnNBKPe",
    "outputId": "2cb91579-2b4f-456c-80bd-4840291882b6",
    "ExecuteTime": {
     "end_time": "2023-12-07T15:55:49.401188900Z",
     "start_time": "2023-12-07T15:55:47.103393800Z"
    }
   },
   "outputs": [
    {
     "name": "stdout",
     "output_type": "stream",
     "text": [
      "Model: \"model_1\"\n",
      "__________________________________________________________________________________________________\n",
      " Layer (type)                   Output Shape         Param #     Connected to                     \n",
      "==================================================================================================\n",
      " conv2d_2_input (InputLayer)    [(None, 128, 128, 3  0           []                               \n",
      "                                )]                                                                \n",
      "                                                                                                  \n",
      " conv2d_2 (Conv2D)              (None, 126, 126, 64  1792        ['conv2d_2_input[0][0]']         \n",
      "                                )                                                                 \n",
      "                                                                                                  \n",
      " conv2d_3 (Conv2D)              (None, 124, 124, 64  36928       ['conv2d_2[0][0]']               \n",
      "                                )                                                                 \n",
      "                                                                                                  \n",
      " max_pooling2d_1 (MaxPooling2D)  (None, 62, 62, 64)  0           ['conv2d_3[0][0]']               \n",
      "                                                                                                  \n",
      " flatten_1 (Flatten)            (None, 246016)       0           ['max_pooling2d_1[0][0]']        \n",
      "                                                                                                  \n",
      " dense_3 (Dense)                (None, 128)          31490176    ['flatten_1[0][0]']              \n",
      "                                                                                                  \n",
      " dense_4 (Dense)                (None, 64)           8256        ['dense_3[0][0]']                \n",
      "                                                                                                  \n",
      " dense_5 (Dense)                (None, 64)           8256        ['dense_3[0][0]']                \n",
      "                                                                                                  \n",
      " binary_classification_output (  (None, 1)           65          ['dense_4[0][0]']                \n",
      " Dense)                                                                                           \n",
      "                                                                                                  \n",
      " regression_output (Dense)      (None, 1)            65          ['dense_5[0][0]']                \n",
      "                                                                                                  \n",
      "==================================================================================================\n",
      "Total params: 31,545,538\n",
      "Trainable params: 31,545,538\n",
      "Non-trainable params: 0\n",
      "__________________________________________________________________________________________________\n"
     ]
    }
   ],
   "source": [
    "import tensorflow as tf\n",
    "from keras import layers, models\n",
    "from keras.optimizers import Adam\n",
    "\n",
    "# Define the shared base model\n",
    "def build_shared_model(input_shape):\n",
    "    model = models.Sequential()\n",
    "    model.add(layers.Conv2D(64, (3, 3), activation='relu', input_shape=input_shape))\n",
    "    model.add(layers.Conv2D(64, (3, 3), activation='relu'))\n",
    "    model.add(layers.MaxPooling2D((2, 2)))\n",
    "    model.add(layers.Flatten())\n",
    "    model.add(layers.Dense(128, activation='relu'))\n",
    "    return model\n",
    "\n",
    "# Define the binary classification head\n",
    "def build_binary_classification_head(base_model_output):\n",
    "    x = layers.Dense(64, activation='relu')(base_model_output)\n",
    "    binary_classification_output = layers.Dense(1, activation='sigmoid', name='binary_classification_output')(x)\n",
    "    return binary_classification_output\n",
    "\n",
    "# Define the regression head\n",
    "def build_regression_head(base_model_output):\n",
    "    x = layers.Dense(64, activation='relu')(base_model_output)\n",
    "    regression_output = layers.Dense(1, name='regression_output')(x)\n",
    "    return regression_output\n",
    "\n",
    "# Input shape for the image\n",
    "input_shape = (128, 128, 3)\n",
    "\n",
    "# Number of classes for binary classification\n",
    "num_classes_binary = 1\n",
    "\n",
    "# Shared base model\n",
    "base_model = build_shared_model(input_shape)\n",
    "\n",
    "# Binary classification head\n",
    "binary_classification_output = build_binary_classification_head(base_model.output)\n",
    "\n",
    "# Regression head\n",
    "regression_output = build_regression_head(base_model.output)\n",
    "\n",
    "# Create the multi-task model\n",
    "model = models.Model(inputs=base_model.input, outputs=[binary_classification_output, regression_output])\n",
    "\n",
    "# Compile the model\n",
    "model.compile(optimizer=Adam(),\n",
    "              loss={'binary_classification_output': 'binary_crossentropy', 'regression_output': 'mse'},\n",
    "              metrics={'binary_classification_output': 'accuracy', 'regression_output': 'mse'})\n",
    "\n",
    "# Display the model summary\n",
    "model.summary()"
   ]
  },
  {
   "cell_type": "markdown",
   "source": [
    "# Train the model"
   ],
   "metadata": {
    "id": "MccBOaBvCjZB"
   }
  },
  {
   "cell_type": "code",
   "source": [
    "# Assuming you have X_train (input images), y_class (classification labels), and y_reg (regression labels)\n",
    "import preprocessing\n",
    "\n",
    "train_gen, val_gen = preprocessing.preprocess()\n",
    "\n",
    "# Convert classification labels to one-hot encoding\n",
    "# y_class_one_hot = tf.keras.utils.to_categorical(y_class, num_classes=num_classes)\n",
    "\n",
    "# Train the model using the fit method\n",
    "epochs = 10\n",
    "batch_size = 32\n",
    "\n",
    "history = model.fit(\n",
    "    train_gen,\n",
    "    validation_data=val_gen,\n",
    "    epochs=epochs,\n",
    "    batch_size=batch_size,\n",
    ")\n",
    "\n",
    "# Save the trained model if needed\n",
    "model.save('multi_task_model.h5')"
   ],
   "metadata": {
    "id": "oU_YBQVkB3qS",
    "ExecuteTime": {
     "end_time": "2023-12-07T15:56:20.435929500Z",
     "start_time": "2023-12-07T15:55:56.713909Z"
    }
   },
   "execution_count": 5,
   "outputs": [
    {
     "name": "stdout",
     "output_type": "stream",
     "text": [
      "Found 8 validated image filenames.\n",
      "Found 1 validated image filenames.\n",
      "Epoch 1/10\n",
      "1/1 [==============================] - 7s 7s/step - loss: 1.1683 - binary_classification_output_loss: 0.6932 - regression_output_loss: 0.4751 - binary_classification_output_accuracy: 0.5000 - regression_output_mse: 0.4751 - val_loss: 1278.3817 - val_binary_classification_output_loss: 2.2105 - val_regression_output_loss: 1276.1711 - val_binary_classification_output_accuracy: 0.5000 - val_regression_output_mse: 1276.1711\n",
      "Epoch 2/10\n",
      "1/1 [==============================] - 1s 1s/step - loss: 1204.8446 - binary_classification_output_loss: 2.1588 - regression_output_loss: 1202.6858 - binary_classification_output_accuracy: 0.5000 - regression_output_mse: 1202.6858 - val_loss: 3.3429 - val_binary_classification_output_loss: 3.0191 - val_regression_output_loss: 0.3239 - val_binary_classification_output_accuracy: 0.5000 - val_regression_output_mse: 0.3239\n",
      "Epoch 3/10\n",
      "1/1 [==============================] - 1s 1s/step - loss: 3.2831 - binary_classification_output_loss: 2.9563 - regression_output_loss: 0.3268 - binary_classification_output_accuracy: 0.5000 - regression_output_mse: 0.3268 - val_loss: 16.8811 - val_binary_classification_output_loss: 2.1675 - val_regression_output_loss: 14.7136 - val_binary_classification_output_accuracy: 0.5000 - val_regression_output_mse: 14.7136\n",
      "Epoch 4/10\n",
      "1/1 [==============================] - 1s 1s/step - loss: 16.6189 - binary_classification_output_loss: 2.1536 - regression_output_loss: 14.4654 - binary_classification_output_accuracy: 0.5000 - regression_output_mse: 14.4654 - val_loss: 6.5178 - val_binary_classification_output_loss: 1.3899 - val_regression_output_loss: 5.1279 - val_binary_classification_output_accuracy: 0.5000 - val_regression_output_mse: 5.1279\n",
      "Epoch 5/10\n",
      "1/1 [==============================] - 1s 1s/step - loss: 5.9924 - binary_classification_output_loss: 1.3209 - regression_output_loss: 4.6715 - binary_classification_output_accuracy: 0.5000 - regression_output_mse: 4.6715 - val_loss: 1.1638 - val_binary_classification_output_loss: 0.7339 - val_regression_output_loss: 0.4300 - val_binary_classification_output_accuracy: 0.5000 - val_regression_output_mse: 0.4300\n",
      "Epoch 6/10\n",
      "1/1 [==============================] - 1s 1s/step - loss: 1.1665 - binary_classification_output_loss: 0.7296 - regression_output_loss: 0.4369 - binary_classification_output_accuracy: 0.5000 - regression_output_mse: 0.4369 - val_loss: 1.8791 - val_binary_classification_output_loss: 0.8087 - val_regression_output_loss: 1.0704 - val_binary_classification_output_accuracy: 0.5000 - val_regression_output_mse: 1.0704\n",
      "Epoch 7/10\n",
      "1/1 [==============================] - 1s 1s/step - loss: 1.7213 - binary_classification_output_loss: 0.7939 - regression_output_loss: 0.9274 - binary_classification_output_accuracy: 0.5000 - regression_output_mse: 0.9274 - val_loss: 2.2442 - val_binary_classification_output_loss: 0.9436 - val_regression_output_loss: 1.3006 - val_binary_classification_output_accuracy: 0.5000 - val_regression_output_mse: 1.3006\n",
      "Epoch 8/10\n",
      "1/1 [==============================] - 1s 1s/step - loss: 1.8818 - binary_classification_output_loss: 0.8958 - regression_output_loss: 0.9860 - binary_classification_output_accuracy: 0.5000 - regression_output_mse: 0.9860 - val_loss: 1.6077 - val_binary_classification_output_loss: 0.9395 - val_regression_output_loss: 0.6682 - val_binary_classification_output_accuracy: 0.5000 - val_regression_output_mse: 0.6682\n",
      "Epoch 9/10\n",
      "1/1 [==============================] - 1s 1s/step - loss: 1.5007 - binary_classification_output_loss: 0.9113 - regression_output_loss: 0.5894 - binary_classification_output_accuracy: 0.5000 - regression_output_mse: 0.5894 - val_loss: 1.2486 - val_binary_classification_output_loss: 0.9106 - val_regression_output_loss: 0.3379 - val_binary_classification_output_accuracy: 0.5000 - val_regression_output_mse: 0.3379\n",
      "Epoch 10/10\n",
      "1/1 [==============================] - 1s 1s/step - loss: 1.1824 - binary_classification_output_loss: 0.8808 - regression_output_loss: 0.3016 - binary_classification_output_accuracy: 0.5000 - regression_output_mse: 0.3016 - val_loss: 1.1001 - val_binary_classification_output_loss: 0.8390 - val_regression_output_loss: 0.2611 - val_binary_classification_output_accuracy: 0.5000 - val_regression_output_mse: 0.2611\n"
     ]
    }
   ]
  },
  {
   "cell_type": "code",
   "execution_count": 3,
   "outputs": [
    {
     "data": {
      "text/plain": "(array([[[[0.03137255, 0.        , 0.        ],\n          [0.03137255, 0.        , 0.        ],\n          [0.03137255, 0.        , 0.        ],\n          ...,\n          [0.4321899 , 0.38905266, 0.31750214],\n          [0.43224734, 0.3891101 , 0.31755322],\n          [0.4323048 , 0.38916755, 0.31760427]],\n \n         [[0.03137255, 0.        , 0.        ],\n          [0.03137255, 0.        , 0.        ],\n          [0.03137255, 0.        , 0.        ],\n          ...,\n          [0.33484775, 0.28559452, 0.21806426],\n          [0.3349403 , 0.28569347, 0.21816002],\n          [0.33503285, 0.28579238, 0.21825576]],\n \n         [[0.03137255, 0.        , 0.        ],\n          [0.03137255, 0.        , 0.        ],\n          [0.03137255, 0.        , 0.        ],\n          ...,\n          [0.27769738, 0.22671698, 0.16005032],\n          [0.27773568, 0.22675528, 0.16008861],\n          [0.27777398, 0.22679357, 0.16012691]],\n \n         ...,\n \n         [[0.        , 0.        , 0.        ],\n          [0.        , 0.        , 0.        ],\n          [0.        , 0.        , 0.        ],\n          ...,\n          [0.        , 0.        , 0.        ],\n          [0.        , 0.        , 0.        ],\n          [0.        , 0.        , 0.        ]],\n \n         [[0.        , 0.        , 0.        ],\n          [0.        , 0.        , 0.        ],\n          [0.        , 0.        , 0.        ],\n          ...,\n          [0.        , 0.        , 0.        ],\n          [0.        , 0.        , 0.        ],\n          [0.        , 0.        , 0.        ]],\n \n         [[0.        , 0.        , 0.        ],\n          [0.        , 0.        , 0.        ],\n          [0.        , 0.        , 0.        ],\n          ...,\n          [0.        , 0.        , 0.        ],\n          [0.        , 0.        , 0.        ],\n          [0.        , 0.        , 0.        ]]],\n \n \n        [[[0.64819145, 0.5169066 , 0.40810782],\n          [0.6826451 , 0.5428383 , 0.42570004],\n          [0.74467534, 0.5893266 , 0.46143144],\n          ...,\n          [0.34204832, 0.2767759 , 0.18000032],\n          [0.34205252, 0.2767793 , 0.18000412],\n          [0.34205675, 0.27678263, 0.18000792]],\n \n         [[0.6469759 , 0.5118727 , 0.40403667],\n          [0.6816097 , 0.53721344, 0.42000437],\n          [0.7457608 , 0.58597505, 0.45747393],\n          ...,\n          [0.32035068, 0.25760555, 0.15956633],\n          [0.32035235, 0.25760725, 0.15956801],\n          [0.320354  , 0.25760892, 0.15956971]],\n \n         [[0.6417617 , 0.50642216, 0.39776292],\n          [0.6781122 , 0.5324787 , 0.41113308],\n          [0.745492  , 0.5842678 , 0.4519155 ],\n          ...,\n          [0.3062349 , 0.24348982, 0.14919588],\n          [0.30623662, 0.24349152, 0.14919674],\n          [0.3062383 , 0.24349318, 0.14919758]],\n \n         ...,\n \n         [[0.8843621 , 0.8686758 , 0.8725974 ],\n          [0.8799118 , 0.8642255 , 0.8681471 ],\n          [0.87079936, 0.8551131 , 0.85903466],\n          ...,\n          [0.97318643, 0.9653433 , 0.98495114],\n          [0.973186  , 0.9653429 , 0.9849507 ],\n          [0.9731856 , 0.96534246, 0.9849503 ]],\n \n         [[0.88897294, 0.87328666, 0.87720823],\n          [0.88404614, 0.86835986, 0.87228143],\n          [0.87759477, 0.8619085 , 0.86583006],\n          ...,\n          [0.976226  , 0.96838284, 0.9879907 ],\n          [0.9762264 , 0.96838325, 0.9879911 ],\n          [0.9762268 , 0.96838367, 0.9879915 ]],\n \n         [[0.89902705, 0.8833407 , 0.8872623 ],\n          [0.8946443 , 0.87895805, 0.8828796 ],\n          [0.8908344 , 0.8751481 , 0.8790697 ],\n          ...,\n          [0.972697  , 0.9648539 , 0.9844617 ],\n          [0.97269744, 0.9648543 , 0.98446214],\n          [0.97269785, 0.9648547 , 0.98446256]]],\n \n \n        [[[0.55612177, 0.4001368 , 0.30355108],\n          [0.6207345 , 0.44596866, 0.33786947],\n          [0.6767484 , 0.4893228 , 0.367008  ],\n          ...,\n          [0.62424964, 0.5665065 , 0.57791114],\n          [0.6311807 , 0.58383393, 0.59177303],\n          [0.68865454, 0.6415957 , 0.64943886]],\n \n         [[0.56196386, 0.40651467, 0.30742097],\n          [0.6276197 , 0.45228285, 0.34178072],\n          [0.6836336 , 0.49467772, 0.37119856],\n          ...,\n          [0.6321228 , 0.5732091 , 0.58621687],\n          [0.63194704, 0.5829314 , 0.59145576],\n          [0.68156886, 0.6342747 , 0.6421963 ]],\n \n         [[0.58388644, 0.43026295, 0.32332337],\n          [0.65259296, 0.475542  , 0.3576048 ],\n          [0.70819277, 0.51445866, 0.3873912 ],\n          ...,\n          [0.6832411 , 0.61724496, 0.6397686 ],\n          [0.6395365 , 0.5796383 , 0.593015  ],\n          [0.6399396 , 0.5899459 , 0.59891534]],\n \n         ...,\n \n         [[0.382712  , 0.24783987, 0.20063718],\n          [0.4064796 , 0.2592159 , 0.20810473],\n          [0.41683003, 0.26398477, 0.20730591],\n          ...,\n          [0.87135565, 0.8406216 , 0.82939637],\n          [0.901744  , 0.8846196 , 0.8677032 ],\n          [0.9129193 , 0.9027247 , 0.8839003 ]],\n \n         [[0.40940106, 0.25866982, 0.20847945],\n          [0.43379232, 0.2794818 , 0.22235447],\n          [0.44899324, 0.28560466, 0.23023935],\n          ...,\n          [0.8930982 , 0.868401  , 0.8588152 ],\n          [0.8981275 , 0.88606274, 0.8729578 ],\n          [0.9045821 , 0.9020531 , 0.8855182 ]],\n \n         [[0.43637985, 0.26272514, 0.21977198],\n          [0.46705455, 0.28667563, 0.23711948],\n          [0.47798118, 0.29068926, 0.24271195],\n          ...,\n          [0.87308633, 0.8618708 , 0.8560459 ],\n          [0.8979002 , 0.89358777, 0.8854912 ],\n          [0.91191167, 0.9080698 , 0.89979714]]],\n \n \n        ...,\n \n \n        [[[0.5764706 , 0.46274513, 0.30588236],\n          [0.5815842 , 0.46785873, 0.31099597],\n          [0.59527606, 0.48155057, 0.3246878 ],\n          ...,\n          [0.8745099 , 0.78823537, 0.6039216 ],\n          [0.8604333 , 0.7741588 , 0.58984506],\n          [0.8497488 , 0.7634743 , 0.5740073 ]],\n \n         [[0.5764706 , 0.46274513, 0.30588236],\n          [0.581643  , 0.4679175 , 0.31105474],\n          [0.5953201 , 0.48159465, 0.3247319 ],\n          ...,\n          [0.8745099 , 0.78823537, 0.6039216 ],\n          [0.86035985, 0.77408534, 0.5897716 ],\n          [0.8497194 , 0.7634449 , 0.5739485 ]],\n \n         [[0.5764706 , 0.46274513, 0.30588236],\n          [0.58170176, 0.46797627, 0.3111135 ],\n          [0.59536415, 0.4816387 , 0.32477596],\n          ...,\n          [0.8745099 , 0.78823537, 0.6039216 ],\n          [0.8602864 , 0.77401185, 0.58969814],\n          [0.84969   , 0.7634155 , 0.57388973]],\n \n         ...,\n \n         [[0.6627451 , 0.74509805, 0.85098046],\n          [0.65340084, 0.73886853, 0.83540654],\n          [0.64810437, 0.7343789 , 0.8284965 ],\n          ...,\n          [0.        , 0.        , 0.        ],\n          [0.        , 0.        , 0.        ],\n          [0.        , 0.        , 0.        ]],\n \n         [[0.6627451 , 0.74509805, 0.85098046],\n          [0.65335673, 0.73883915, 0.8353331 ],\n          [0.64808965, 0.73436415, 0.8284818 ],\n          ...,\n          [0.        , 0.        , 0.        ],\n          [0.        , 0.        , 0.        ],\n          [0.        , 0.        , 0.        ]],\n \n         [[0.6627451 , 0.74509805, 0.85098046],\n          [0.6533127 , 0.73880976, 0.8352596 ],\n          [0.648075  , 0.7343495 , 0.82846713],\n          ...,\n          [0.        , 0.        , 0.        ],\n          [0.        , 0.        , 0.        ],\n          [0.        , 0.        , 0.        ]]],\n \n \n        [[[0.80782914, 0.5333193 , 0.3293977 ],\n          [0.8078432 , 0.53333336, 0.32941177],\n          [0.8144542 , 0.5366389 , 0.32610628],\n          ...,\n          [0.87766826, 0.76786435, 0.68551135],\n          [0.9094797 , 0.7996757 , 0.71732277],\n          [0.95294124, 0.8431373 , 0.7607844 ]],\n \n         [[0.8078432 , 0.53333336, 0.32941177],\n          [0.8078432 , 0.53333336, 0.32941177],\n          [0.81447244, 0.536648  , 0.32609716],\n          ...,\n          [0.8777411 , 0.7679371 , 0.6855842 ],\n          [0.909598  , 0.7997941 , 0.71744114],\n          [0.95294124, 0.8431373 , 0.7607844 ]],\n \n         [[0.8078432 , 0.53333336, 0.32941177],\n          [0.8078432 , 0.53333336, 0.32941177],\n          [0.8144906 , 0.5366571 , 0.32608807],\n          ...,\n          [0.8778139 , 0.76800996, 0.685657  ],\n          [0.90971637, 0.79991245, 0.7175595 ],\n          [0.95294124, 0.8431373 , 0.7607844 ]],\n \n         ...,\n \n         [[0.8980393 , 0.60784316, 0.4156863 ],\n          [0.8955539 , 0.60535777, 0.41320094],\n          [0.8831436 , 0.5929475 , 0.4007906 ],\n          ...,\n          [0.8276994 , 0.6669151 , 0.55711114],\n          [0.84902424, 0.6899562 , 0.5835848 ],\n          [0.86666673, 0.70980394, 0.60784316]],\n \n         [[0.8980393 , 0.60784316, 0.4156863 ],\n          [0.8955266 , 0.6053305 , 0.41317362],\n          [0.88308895, 0.5928928 , 0.40073597],\n          ...,\n          [0.82773584, 0.66695154, 0.5571476 ],\n          [0.8490971 , 0.69003814, 0.5836849 ],\n          [0.86666673, 0.70980394, 0.60784316]],\n \n         [[0.8980393 , 0.60784316, 0.4156863 ],\n          [0.8954993 , 0.6053032 , 0.41314632],\n          [0.8830343 , 0.5928382 , 0.40068138],\n          ...,\n          [0.82777226, 0.6669879 , 0.557184  ],\n          [0.8491699 , 0.69012004, 0.5837851 ],\n          [0.86666673, 0.70980394, 0.60784316]]],\n \n \n        [[[0.4728065 , 0.4335908 , 0.39437512],\n          [0.37693232, 0.33341062, 0.29563025],\n          [0.27642182, 0.2237723 , 0.18847819],\n          ...,\n          [0.59607846, 0.45098042, 0.4156863 ],\n          [0.59607846, 0.45098042, 0.4156863 ],\n          [0.59607846, 0.45098042, 0.4156863 ]],\n \n         [[0.46940583, 0.43019015, 0.39097446],\n          [0.38145512, 0.33785275, 0.30009925],\n          [0.28005493, 0.22737852, 0.1920844 ],\n          ...,\n          [0.59607846, 0.45098042, 0.4156863 ],\n          [0.59607846, 0.45098042, 0.4156863 ],\n          [0.59607846, 0.45098042, 0.4156863 ]],\n \n         [[0.46823588, 0.42902017, 0.38980448],\n          [0.39573777, 0.3520547 , 0.3143281 ],\n          [0.2920524 , 0.23934911, 0.204055  ],\n          ...,\n          [0.5879276 , 0.4428295 , 0.40753537],\n          [0.5879533 , 0.44285527, 0.40756115],\n          [0.5879791 , 0.44288102, 0.4075869 ]],\n \n         ...,\n \n         [[0.77647066, 0.5921569 , 0.5542261 ],\n          [0.7738419 , 0.5895282 , 0.55815566],\n          [0.76026595, 0.5759522 , 0.54679966],\n          ...,\n          [0.90196085, 0.7686275 , 0.72156864],\n          [0.90196085, 0.7686275 , 0.72156864],\n          [0.90196085, 0.7686275 , 0.72156864]],\n \n         [[0.77647066, 0.5921569 , 0.5542799 ],\n          [0.7737613 , 0.58944756, 0.558075  ],\n          [0.7601583 , 0.5758446 , 0.54674584],\n          ...,\n          [0.90196085, 0.7686275 , 0.72156864],\n          [0.90196085, 0.7686275 , 0.72156864],\n          [0.90196085, 0.7686275 , 0.72156864]],\n \n         [[0.77647066, 0.5921569 , 0.5543337 ],\n          [0.77368057, 0.5893668 , 0.55799425],\n          [0.7600507 , 0.575737  , 0.5466921 ],\n          ...,\n          [0.90196085, 0.7686275 , 0.72156864],\n          [0.90196085, 0.7686275 , 0.72156864],\n          [0.90196085, 0.7686275 , 0.72156864]]]], dtype=float32),\n array([[1, 0],\n        [1, 0],\n        [1, 0],\n        [1, 0],\n        [1, 0],\n        [1, 0],\n        [1, 0],\n        [1, 0]], dtype=int64))"
     },
     "execution_count": 3,
     "metadata": {},
     "output_type": "execute_result"
    }
   ],
   "source": [
    "train_gen.next()"
   ],
   "metadata": {
    "collapsed": false,
    "ExecuteTime": {
     "end_time": "2023-12-07T15:53:19.539034600Z",
     "start_time": "2023-12-07T15:53:19.350940800Z"
    }
   }
  },
  {
   "cell_type": "markdown",
   "source": [
    "# Check for overfitting"
   ],
   "metadata": {
    "id": "y7sH8aihCoFB"
   }
  },
  {
   "cell_type": "code",
   "source": [
    "import matplotlib.pyplot as plt\n",
    "\n",
    "# Plot training and validation loss\n",
    "plt.figure(figsize=(12, 6))\n",
    "\n",
    "# Plot Classification Loss\n",
    "plt.subplot(1, 2, 1)\n",
    "plt.plot(history.history['classification_output_loss'], label='classification_loss')\n",
    "plt.plot(history.history['val_classification_output_loss'], label='val_classification_loss')\n",
    "plt.title('Classification Loss')\n",
    "plt.xlabel('Epoch')\n",
    "plt.ylabel('Loss')\n",
    "plt.legend()\n",
    "\n",
    "# Plot Regression Loss\n",
    "plt.subplot(1, 2, 2)\n",
    "plt.plot(history.history['regression_output_loss'], label='regression_loss')\n",
    "plt.plot(history.history['val_regression_output_loss'], label='val_regression_loss')\n",
    "plt.title('Regression Loss')\n",
    "plt.xlabel('Epoch')\n",
    "plt.ylabel('Loss')\n",
    "plt.legend()\n",
    "\n",
    "plt.tight_layout()\n",
    "plt.show()"
   ],
   "metadata": {
    "id": "iaJdYnJCCq3g",
    "ExecuteTime": {
     "end_time": "2023-12-07T15:57:03.295736700Z",
     "start_time": "2023-12-07T15:56:59.561915600Z"
    }
   },
   "execution_count": 6,
   "outputs": [
    {
     "ename": "KeyError",
     "evalue": "'classification_output_loss'",
     "output_type": "error",
     "traceback": [
      "\u001B[1;31m---------------------------------------------------------------------------\u001B[0m",
      "\u001B[1;31mKeyError\u001B[0m                                  Traceback (most recent call last)",
      "Cell \u001B[1;32mIn [6], line 8\u001B[0m\n\u001B[0;32m      6\u001B[0m \u001B[38;5;66;03m# Plot Classification Loss\u001B[39;00m\n\u001B[0;32m      7\u001B[0m plt\u001B[38;5;241m.\u001B[39msubplot(\u001B[38;5;241m1\u001B[39m, \u001B[38;5;241m2\u001B[39m, \u001B[38;5;241m1\u001B[39m)\n\u001B[1;32m----> 8\u001B[0m plt\u001B[38;5;241m.\u001B[39mplot(\u001B[43mhistory\u001B[49m\u001B[38;5;241;43m.\u001B[39;49m\u001B[43mhistory\u001B[49m\u001B[43m[\u001B[49m\u001B[38;5;124;43m'\u001B[39;49m\u001B[38;5;124;43mclassification_output_loss\u001B[39;49m\u001B[38;5;124;43m'\u001B[39;49m\u001B[43m]\u001B[49m, label\u001B[38;5;241m=\u001B[39m\u001B[38;5;124m'\u001B[39m\u001B[38;5;124mclassification_loss\u001B[39m\u001B[38;5;124m'\u001B[39m)\n\u001B[0;32m      9\u001B[0m plt\u001B[38;5;241m.\u001B[39mplot(history\u001B[38;5;241m.\u001B[39mhistory[\u001B[38;5;124m'\u001B[39m\u001B[38;5;124mval_classification_output_loss\u001B[39m\u001B[38;5;124m'\u001B[39m], label\u001B[38;5;241m=\u001B[39m\u001B[38;5;124m'\u001B[39m\u001B[38;5;124mval_classification_loss\u001B[39m\u001B[38;5;124m'\u001B[39m)\n\u001B[0;32m     10\u001B[0m plt\u001B[38;5;241m.\u001B[39mtitle(\u001B[38;5;124m'\u001B[39m\u001B[38;5;124mClassification Loss\u001B[39m\u001B[38;5;124m'\u001B[39m)\n",
      "\u001B[1;31mKeyError\u001B[0m: 'classification_output_loss'"
     ]
    },
    {
     "data": {
      "text/plain": "<Figure size 1200x600 with 1 Axes>",
      "image/png": "[encoded data removed]"
     },
     "metadata": {},
     "output_type": "display_data"
    }
   ]
  }
 ]
}
