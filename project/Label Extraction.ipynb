{
 "cells": [
  {
   "cell_type": "code",
   "execution_count": 1,
   "metadata": {
    "collapsed": true,
    "ExecuteTime": {
     "start_time": "2023-11-21T12:36:03.683789Z",
     "end_time": "2023-11-21T12:36:26.598032Z"
    }
   },
   "outputs": [],
   "source": [
    "import pandas as pd\n",
    "import os"
   ]
  },
  {
   "cell_type": "markdown",
   "source": [
    "The following code was generated with the help of ChatGPT"
   ],
   "metadata": {
    "collapsed": false
   }
  },
  {
   "cell_type": "code",
   "execution_count": 2,
   "outputs": [],
   "source": [
    "# Function to rename files in a directory\n",
    "def rename_files(folder_path):\n",
    "    for filename in os.listdir(folder_path):\n",
    "        if filename.endswith(\".jpg.chip.jpg\"):\n",
    "            # Create the new filename by replacing '.jpg.chip.jpg' with '.jpg'\n",
    "            new_filename = filename.replace('.jpg.chip.jpg', '.jpg')\n",
    "\n",
    "            # Construct the full file paths\n",
    "            current_filepath = os.path.join(folder_path, filename)\n",
    "            new_filepath = os.path.join(folder_path, new_filename)\n",
    "\n",
    "            # Rename the file\n",
    "            os.rename(current_filepath, new_filepath)\n",
    "            #print(f\"Renamed {filename} to {new_filename}\")"
   ],
   "metadata": {
    "collapsed": false,
    "ExecuteTime": {
     "start_time": "2023-11-21T12:36:28.908835Z",
     "end_time": "2023-11-21T12:36:28.955702Z"
    }
   }
  },
  {
   "cell_type": "code",
   "execution_count": 3,
   "outputs": [],
   "source": [
    "# Function to extract information from image file names\n",
    "def extract_info_from_filename(filename):\n",
    "    # Split the filename by underscores\n",
    "    parts = filename.split('_')\n",
    "\n",
    "    # Extract relevant information\n",
    "    age = int(parts[0])\n",
    "    gender = int(parts[1])\n",
    "    race = int(parts[2])\n",
    "\n",
    "    return age, gender, race\n",
    "\n",
    "# Function to get image file names in a folder\n",
    "def get_image_info(folder_path):\n",
    "    image_info = []\n",
    "\n",
    "    for filename in os.listdir(folder_path):\n",
    "        if filename.endswith(\".jpg\"):  # Consider only JPG files\n",
    "            age, gender, race = extract_info_from_filename(filename)\n",
    "            image_id = os.path.splitext(filename)[0]  # Remove file extension to get image ID\n",
    "            image_info.append((image_id, age, gender, race))\n",
    "\n",
    "    return image_info\n",
    "\n",
    "# Create a DataFrame from image information\n",
    "def create_dataframe(folder_path):\n",
    "    image_info = get_image_info(folder_path)\n",
    "    df = pd.DataFrame(image_info, columns=['Image_ID', 'Age', 'Gender', 'Race'])\n",
    "    return df"
   ],
   "metadata": {
    "collapsed": false,
    "ExecuteTime": {
     "start_time": "2023-11-21T12:36:34.186279Z",
     "end_time": "2023-11-21T12:36:34.233146Z"
    }
   }
  },
  {
   "cell_type": "code",
   "execution_count": 12,
   "outputs": [
    {
     "ename": "FileNotFoundError",
     "evalue": "[WinError 3] The system cannot find the path specified: 'data/UTKFace'",
     "output_type": "error",
     "traceback": [
      "\u001B[1;31m---------------------------------------------------------------------------\u001B[0m",
      "\u001B[1;31mFileNotFoundError\u001B[0m                         Traceback (most recent call last)",
      "Cell \u001B[1;32mIn [12], line 2\u001B[0m\n\u001B[0;32m      1\u001B[0m folder_path \u001B[38;5;241m=\u001B[39m \u001B[38;5;124m'\u001B[39m\u001B[38;5;124mdata/UTKFace\u001B[39m\u001B[38;5;124m'\u001B[39m\n\u001B[1;32m----> 2\u001B[0m \u001B[43mrename_files\u001B[49m\u001B[43m(\u001B[49m\u001B[43mfolder_path\u001B[49m\u001B[43m)\u001B[49m\n",
      "Cell \u001B[1;32mIn [2], line 3\u001B[0m, in \u001B[0;36mrename_files\u001B[1;34m(folder_path)\u001B[0m\n\u001B[0;32m      2\u001B[0m \u001B[38;5;28;01mdef\u001B[39;00m \u001B[38;5;21mrename_files\u001B[39m(folder_path):\n\u001B[1;32m----> 3\u001B[0m     \u001B[38;5;28;01mfor\u001B[39;00m filename \u001B[38;5;129;01min\u001B[39;00m \u001B[43mos\u001B[49m\u001B[38;5;241;43m.\u001B[39;49m\u001B[43mlistdir\u001B[49m\u001B[43m(\u001B[49m\u001B[43mfolder_path\u001B[49m\u001B[43m)\u001B[49m:\n\u001B[0;32m      4\u001B[0m         \u001B[38;5;28;01mif\u001B[39;00m filename\u001B[38;5;241m.\u001B[39mendswith(\u001B[38;5;124m\"\u001B[39m\u001B[38;5;124m.jpg.chip.jpg\u001B[39m\u001B[38;5;124m\"\u001B[39m):\n\u001B[0;32m      5\u001B[0m             \u001B[38;5;66;03m# Create the new filename by replacing '.jpg.chip.jpg' with '.jpg'\u001B[39;00m\n\u001B[0;32m      6\u001B[0m             new_filename \u001B[38;5;241m=\u001B[39m filename\u001B[38;5;241m.\u001B[39mreplace(\u001B[38;5;124m'\u001B[39m\u001B[38;5;124m.jpg.chip.jpg\u001B[39m\u001B[38;5;124m'\u001B[39m, \u001B[38;5;124m'\u001B[39m\u001B[38;5;124m.jpg\u001B[39m\u001B[38;5;124m'\u001B[39m)\n",
      "\u001B[1;31mFileNotFoundError\u001B[0m: [WinError 3] The system cannot find the path specified: 'data/UTKFace'"
     ]
    }
   ],
   "source": [
    "folder_path = 'data/UTKFace'\n",
    "rename_files(folder_path)"
   ],
   "metadata": {
    "collapsed": false,
    "ExecuteTime": {
     "start_time": "2023-11-21T12:39:27.687333Z",
     "end_time": "2023-11-21T12:39:27.786580Z"
    }
   }
  },
  {
   "cell_type": "code",
   "execution_count": null,
   "outputs": [],
   "source": [
    "image_dataframe = create_dataframe(folder_path)\n",
    "print(image_dataframe)"
   ],
   "metadata": {
    "collapsed": false
   }
  },
  {
   "cell_type": "code",
   "execution_count": null,
   "outputs": [],
   "source": [
    "# Define the directory to save the DataFrame\n",
    "output_directory = ''\n",
    "\n",
    "# Create the directory if it doesn't exist\n",
    "if not os.path.exists(output_directory):\n",
    "    os.makedirs(output_directory)\n",
    "\n",
    "# Define the output file path\n",
    "output_file_path = os.path.join(output_directory, 'UTKFace_labels.csv')\n",
    "\n",
    "# Save the DataFrame to a CSV file in the new directory\n",
    "image_dataframe.to_csv(output_file_path, index=False)"
   ],
   "metadata": {
    "collapsed": false
   }
  }
 ],
 "metadata": {
  "kernelspec": {
   "display_name": "Python 3",
   "language": "python",
   "name": "python3"
  },
  "language_info": {
   "codemirror_mode": {
    "name": "ipython",
    "version": 2
   },
   "file_extension": ".py",
   "mimetype": "text/x-python",
   "name": "python",
   "nbconvert_exporter": "python",
   "pygments_lexer": "ipython2",
   "version": "2.7.6"
  }
 },
 "nbformat": 4,
 "nbformat_minor": 0
}
