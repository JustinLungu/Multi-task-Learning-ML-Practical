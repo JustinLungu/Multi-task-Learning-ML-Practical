{
 "cells": [
  {
   "cell_type": "code",
   "execution_count": 1,
   "metadata": {
    "collapsed": true,
    "ExecuteTime": {
     "start_time": "2023-11-21T12:36:03.683789Z",
     "end_time": "2023-11-21T12:36:26.598032Z"
    }
   },
   "outputs": [],
   "source": [
    "import pandas as pd\n",
    "import os"
   ]
  },
  {
   "cell_type": "markdown",
   "source": [
    "The following code was generated with the help of ChatGPT"
   ],
   "metadata": {
    "collapsed": false
   }
  },
  {
   "cell_type": "code",
   "execution_count": 2,
   "outputs": [],
   "source": [
    "# Function to rename files in a directory\n",
    "def rename_files(folder_path):\n",
    "    for filename in os.listdir(folder_path):\n",
    "        if filename.endswith(\".jpg.chip.jpg\"):\n",
    "            # Create the new filename by replacing '.jpg.chip.jpg' with '.jpg'\n",
    "            new_filename = filename.replace('.jpg.chip.jpg', '.jpg')\n",
    "\n",
    "            # Construct the full file paths\n",
    "            current_filepath = os.path.join(folder_path, filename)\n",
    "            new_filepath = os.path.join(folder_path, new_filename)\n",
    "\n",
    "            # Rename the file\n",
    "            os.rename(current_filepath, new_filepath)\n",
    "            #print(f\"Renamed {filename} to {new_filename}\")"
   ],
   "metadata": {
    "collapsed": false,
    "ExecuteTime": {
     "start_time": "2023-11-21T12:36:28.908835Z",
     "end_time": "2023-11-21T12:36:28.955702Z"
    }
   }
  },
  {
   "cell_type": "code",
   "execution_count": 27,
   "outputs": [],
   "source": [
    "# Function to extract information from image file names\n",
    "def extract_info_from_filename(filename):\n",
    "    # Split the filename by underscores\n",
    "    parts = filename.split('_')\n",
    "    # Extract relevant information\n",
    "    age = int(parts[0])\n",
    "    gender = int(parts[1])\n",
    "    race = int(parts[2])\n",
    "    return age, gender, race\n",
    "\n",
    "def can_extract_info(filename):\n",
    "    parts = filename.split('_')\n",
    "    if (len(parts)<4):\n",
    "        print(filename + \" has missing values.\")\n",
    "        return False\n",
    "    else:\n",
    "        return True\n",
    "\n",
    "# Function to get image file names in a folder\n",
    "def get_image_info(folder_path):\n",
    "    image_info = []\n",
    "\n",
    "    for filename in os.listdir(folder_path):\n",
    "        if filename.endswith(\".jpg\"):  # Consider only JPG files\n",
    "            if can_extract_info(filename):\n",
    "                age, gender, race = extract_info_from_filename(filename)\n",
    "                image_id = os.path.splitext(filename)[0]  # Remove file extension to get image ID\n",
    "                image_info.append((image_id, age, gender, race))\n",
    "\n",
    "    return image_info\n",
    "\n",
    "# Create a DataFrame from image information\n",
    "def create_dataframe(folder_path):\n",
    "    image_info = get_image_info(folder_path)\n",
    "    df = pd.DataFrame(image_info, columns=['Image_ID', 'Age', 'Gender', 'Race'])\n",
    "    return df"
   ],
   "metadata": {
    "collapsed": false,
    "ExecuteTime": {
     "start_time": "2023-11-21T16:13:46.586805Z",
     "end_time": "2023-11-21T16:13:46.667086Z"
    }
   }
  },
  {
   "cell_type": "code",
   "execution_count": 18,
   "outputs": [],
   "source": [
    "folder_path = '../data/UTKFace'"
   ],
   "metadata": {
    "collapsed": false,
    "ExecuteTime": {
     "start_time": "2023-11-21T15:03:19.125037Z",
     "end_time": "2023-11-21T15:03:19.219618Z"
    }
   }
  },
  {
   "cell_type": "code",
   "execution_count": 15,
   "outputs": [],
   "source": [
    "rename_files(folder_path)"
   ],
   "metadata": {
    "collapsed": false,
    "ExecuteTime": {
     "start_time": "2023-11-21T12:42:42.461180Z",
     "end_time": "2023-11-21T12:44:21.452848Z"
    }
   }
  },
  {
   "cell_type": "code",
   "execution_count": 28,
   "outputs": [
    {
     "name": "stdout",
     "output_type": "stream",
     "text": [
      "39_1_20170116174525125.jpg has missing values.\n",
      "61_1_20170109142408075.jpg has missing values.\n",
      "61_1_20170109150557335.jpg has missing values.\n"
     ]
    }
   ],
   "source": [
    "# Define the directory to save the DataFrame\n",
    "output_directory = '../data/'\n",
    "\n",
    "# Create the directory if it doesn't exist\n",
    "if not os.path.exists(output_directory):\n",
    "    os.makedirs(output_directory)\n",
    "\n",
    "# Define the output file path\n",
    "output_file_path = os.path.join(output_directory, 'UTKFace_labels.csv')\n",
    "\n",
    "# Save the DataFrame to a CSV file in the new directory\n",
    "image_dataframe = create_dataframe(folder_path)\n",
    "image_dataframe.to_csv(output_file_path, index=False)"
   ],
   "metadata": {
    "collapsed": false,
    "ExecuteTime": {
     "start_time": "2023-11-21T16:13:50.509350Z",
     "end_time": "2023-11-21T16:13:52.994224Z"
    }
   }
  }
 ],
 "metadata": {
  "kernelspec": {
   "display_name": "Python 3",
   "language": "python",
   "name": "python3"
  },
  "language_info": {
   "codemirror_mode": {
    "name": "ipython",
    "version": 2
   },
   "file_extension": ".py",
   "mimetype": "text/x-python",
   "name": "python",
   "nbconvert_exporter": "python",
   "pygments_lexer": "ipython2",
   "version": "2.7.6"
  }
 },
 "nbformat": 4,
 "nbformat_minor": 0
}
